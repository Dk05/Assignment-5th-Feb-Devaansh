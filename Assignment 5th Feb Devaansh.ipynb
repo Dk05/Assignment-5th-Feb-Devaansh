{
 "cells": [
  {
   "cell_type": "code",
   "execution_count": 5,
   "id": "5f4ba585",
   "metadata": {},
   "outputs": [
    {
     "data": {
      "text/plain": [
       "'  '"
      ]
     },
     "execution_count": 5,
     "metadata": {},
     "output_type": "execute_result"
    }
   ],
   "source": [
    "#Ans 1 :\n",
    "'''CLASS is basically the classfication, attributes of a real time entity \n",
    "   OBJECT is basically the real time entity which has some attributes or charactersticks'''"
   ]
  },
  {
   "cell_type": "code",
   "execution_count": 2,
   "id": "e33bb467",
   "metadata": {},
   "outputs": [],
   "source": [
    "#Ans 2 :\n",
    "'''  1. Inheritance\n",
    "     2. Abstraction\n",
    "     3. Encapsulation\n",
    "     4. Polymorphism'''"
   ]
  },
  {
   "cell_type": "code",
   "execution_count": 15,
   "id": "fad49b4c",
   "metadata": {},
   "outputs": [
    {
     "name": "stdout",
     "output_type": "stream",
     "text": [
      "The Name :  Rohit\n",
      "The Id :  1011\n"
     ]
    }
   ],
   "source": [
    "#Ans 3 :\n",
    "''' __init__  is used to pass or print data of object. '''\n",
    "class p :\n",
    "    def __init__ (self, name, id):\n",
    "        self.name = name\n",
    "        self.id = id\n",
    "        \n",
    "    def func(self):\n",
    "        print(\"The Name : \" , self.name)\n",
    "        print(\"The Id : \" , self.id)\n",
    "\n",
    "R = p(\"Rohit\", 1011)\n",
    "R.func()"
   ]
  },
  {
   "cell_type": "code",
   "execution_count": 4,
   "id": "31f80c44",
   "metadata": {},
   "outputs": [],
   "source": [
    "#Ans 4 :\n",
    "'''SELF is a pointer which has to be passed in arguments first to point the instance variable in a class.'''"
   ]
  },
  {
   "cell_type": "code",
   "execution_count": 6,
   "id": "8b689e24",
   "metadata": {},
   "outputs": [],
   "source": [
    "#Ans 5 :\n",
    "''' Inheritance is a concept on capturing or inherit traits , fucntions, methods by a child class from its\n",
    "    parents class. In other words :- \n",
    "    Class A (name , roll , marks) Parent class\n",
    "    Class B (name , roll, marks) Child class\n",
    "    \n",
    "    There are 5 types of inheritance:-\n",
    "    1. Multiple \n",
    "    2. Multilevel\n",
    "    3. Hybrid\n",
    "    4. Hierarchical \n",
    "    5. Single'''\n",
    "\n"
   ]
  },
  {
   "cell_type": "code",
   "execution_count": 13,
   "id": "de8ed0d0",
   "metadata": {},
   "outputs": [
    {
     "name": "stdout",
     "output_type": "stream",
     "text": [
      "THE NAME IS :  DEVAANSH\n",
      "THE PH NO IS :  9871462657\n",
      "THE MARKS ARE :  98\n",
      "THE ENROLLMENT NO IS :  40177\n",
      "\n",
      "\n",
      "THE NAME IS :  PRYANK\n",
      "THE PH NO IS :  878462657\n",
      "THE MARKS ARE :  99\n",
      "THE ENROLLMENT NO IS :  41177\n",
      "\n",
      "\n",
      "THE NAME IS :  HARSHIL\n",
      "THE PH NO IS :  8741462643\n",
      "THE MARKS ARE :  97\n",
      "THE ENROLLMENT NO IS :  42177\n",
      "\n",
      "\n",
      "THE NAME IS :  KESHAV\n",
      "THE PH NO IS :  7871462689\n",
      "THE MARKS ARE :  96\n",
      "THE ENROLLMENT NO IS :  43177\n",
      "\n",
      "\n"
     ]
    }
   ],
   "source": []
  },
  {
   "cell_type": "code",
   "execution_count": null,
   "id": "fb449425",
   "metadata": {},
   "outputs": [],
   "source": []
  }
 ],
 "metadata": {
  "kernelspec": {
   "display_name": "Python 3 (ipykernel)",
   "language": "python",
   "name": "python3"
  },
  "language_info": {
   "codemirror_mode": {
    "name": "ipython",
    "version": 3
   },
   "file_extension": ".py",
   "mimetype": "text/x-python",
   "name": "python",
   "nbconvert_exporter": "python",
   "pygments_lexer": "ipython3",
   "version": "3.11.3"
  }
 },
 "nbformat": 4,
 "nbformat_minor": 5
}
